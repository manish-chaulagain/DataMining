{
 "cells": [
  {
   "cell_type": "markdown",
   "id": "38adc831-3d47-4a26-bf60-d5ca45e6f876",
   "metadata": {},
   "source": [
    "Define the following metrics and perform the following operations\r\n",
    "i)\tWrite a Python program using Python Lists\r\n",
    "ii)\tWrite a Python program and NumPy\r\n",
    "\r\n",
    "Matrix A =  [[ 3.7827  3.3454  3.2341]  , [ 2.2122  3.5678  3.9087] , \r\n",
    "[1.1234  2.8934,  5.9087]].\r\n",
    "\r\n",
    "Matrix B =  [[ 3.1234  3.0987  3.1234]  , [ 2.1111  3.2222  3.3333] , \r\n",
    "[1.0987  1.3456,  5.1234]].\r\n",
    "\r\n",
    "Matrix C =  [[ 3.1243  3.0989  3.1256 ]  , [ 2.6721  3.6785  3.9017] , \r\n",
    "[1.1254  2.8956,  5.9187]].\r\n"
   ]
  },
  {
   "cell_type": "code",
   "execution_count": 4,
   "id": "6fea551a-8cdd-486b-9f12-e78cf073240e",
   "metadata": {},
   "outputs": [
    {
     "name": "stdout",
     "output_type": "stream",
     "text": [
      "Matrix addition result using lists: [[6.9061, 6.444100000000001, 6.3575], [4.3233, 6.79, 7.242], [2.2221, 4.239, 11.0321]]\n",
      "Matrix multiplication result using lists: [[22.43066479, 26.852805330000002, 39.53569494], [18.73605675, 23.61065602, 38.8279668], [16.10897299, 20.754939779999997, 43.42603136]]\n"
     ]
    }
   ],
   "source": [
    "#using python Lists\n",
    "A = [[3.7827, 3.3454, 3.2341], [2.2122, 3.5678, 3.9087], [1.1234, 2.8934, 5.9087]]\n",
    "B = [[3.1234, 3.0987, 3.1234], [2.1111, 3.2222, 3.3333], [1.0987, 1.3456, 5.1234]]\n",
    "C = [[3.1243, 3.0989, 3.1256], [2.6721, 3.6785, 3.9017], [1.1254, 2.8956, 5.9187]]\n",
    "\n",
    "result_add = [[A[i][j] + B[i][j] for j in range(len(A[0]))] for i in range(len(A))]\n",
    "result_mul = [[sum(A[i][k] * B[k][j] for k in range(len(A))) for j in range(len(B[0]))] for i in range(len(A))]\n",
    "\n",
    "print(\"Matrix addition result using lists:\", result_add)\n",
    "print(\"Matrix multiplication result using lists:\", result_mul)"
   ]
  },
  {
   "cell_type": "code",
   "execution_count": 6,
   "id": "8f81fcc1-3ccb-40dc-8898-26ce274599bc",
   "metadata": {},
   "outputs": [
    {
     "name": "stdout",
     "output_type": "stream",
     "text": [
      "Matrix addition result using NumPy: [[ 6.9061  6.4441  6.3575]\n",
      " [ 4.3233  6.79    7.242 ]\n",
      " [ 2.2221  4.239  11.0321]]\n",
      "Matrix multiplication result using NumPy: [[22.43066479 26.85280533 39.53569494]\n",
      " [18.73605675 23.61065602 38.8279668 ]\n",
      " [16.10897299 20.75493978 43.42603136]]\n"
     ]
    }
   ],
   "source": [
    "#using numpy\n",
    "import numpy as np\n",
    "\n",
    "A_np = np.array([[3.7827, 3.3454, 3.2341], [2.2122, 3.5678, 3.9087], [1.1234, 2.8934, 5.9087]])\n",
    "B_np = np.array([[3.1234, 3.0987, 3.1234], [2.1111, 3.2222, 3.3333], [1.0987, 1.3456, 5.1234]])\n",
    "C_np = np.array([[3.1243, 3.0989, 3.1256], [2.6721, 3.6785, 3.9017], [1.1254, 2.8956, 5.9187]])\n",
    "\n",
    "result_add_np = A_np + B_np\n",
    "\n",
    "result_mul_np = np.dot(A_np, B_np)\n",
    "\n",
    "print(\"Matrix addition result using NumPy:\", result_add_np)\n",
    "print(\"Matrix multiplication result using NumPy:\", result_mul_np)"
   ]
  },
  {
   "cell_type": "code",
   "execution_count": null,
   "id": "6ef1a3c7-fff6-448e-a289-46596a1c3490",
   "metadata": {},
   "outputs": [],
   "source": []
  }
 ],
 "metadata": {
  "kernelspec": {
   "display_name": "Python 3 (ipykernel)",
   "language": "python",
   "name": "python3"
  },
  "language_info": {
   "codemirror_mode": {
    "name": "ipython",
    "version": 3
   },
   "file_extension": ".py",
   "mimetype": "text/x-python",
   "name": "python",
   "nbconvert_exporter": "python",
   "pygments_lexer": "ipython3",
   "version": "3.12.4"
  }
 },
 "nbformat": 4,
 "nbformat_minor": 5
}

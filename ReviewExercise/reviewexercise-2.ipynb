{
 "cells": [
  {
   "cell_type": "markdown",
   "id": "de3a778b-8254-40a8-84c6-c9ab201e6977",
   "metadata": {},
   "source": [
    "Write a Python Program and perform the following operations ?"
   ]
  },
  {
   "cell_type": "markdown",
   "id": "93daa141-e816-4710-8ba3-a276e0c618b2",
   "metadata": {},
   "source": [
    "I.\tCreate a List {1225, 4986, 6789, 7890, 2345, 6783, 0987, 1234, 8765, 3456}"
   ]
  },
  {
   "cell_type": "code",
   "execution_count": 8,
   "id": "371c44cd-9611-4376-bf91-3b1159321229",
   "metadata": {},
   "outputs": [],
   "source": [
    "lists = [1225, 4986, 6789, 7890, 2345, 6783, 987, 1234, 8765, 3456]"
   ]
  },
  {
   "cell_type": "markdown",
   "id": "fd4a0e3b-971f-4da3-ace6-88f7c07bc34f",
   "metadata": {},
   "source": [
    "II.\tIterate using a for loop"
   ]
  },
  {
   "cell_type": "code",
   "execution_count": 44,
   "id": "457c430c-22e3-4b1d-bc5d-e74256206e6d",
   "metadata": {},
   "outputs": [
    {
     "name": "stdout",
     "output_type": "stream",
     "text": [
      "1225\n",
      "4986\n",
      "6789\n",
      "7890\n",
      "2345\n",
      "6783\n",
      "987\n",
      "1234\n",
      "8765\n",
      "3456\n"
     ]
    }
   ],
   "source": [
    "for lst in lists:\n",
    "    print(lst)"
   ]
  },
  {
   "cell_type": "markdown",
   "id": "5c63b1eb-473b-40a5-b2e8-14d0225840f3",
   "metadata": {},
   "source": [
    "III.\tIterate using for loop and range"
   ]
  },
  {
   "cell_type": "code",
   "execution_count": 13,
   "id": "deb84ad8-11d2-4978-883d-fd8f77f7d4a0",
   "metadata": {},
   "outputs": [
    {
     "name": "stdout",
     "output_type": "stream",
     "text": [
      "1225\n",
      "4986\n",
      "6789\n",
      "7890\n",
      "2345\n",
      "6783\n",
      "987\n",
      "1234\n",
      "8765\n",
      "3456\n"
     ]
    }
   ],
   "source": [
    "for i in range(len(lists)):\n",
    "    print(lists[i])"
   ]
  },
  {
   "cell_type": "markdown",
   "id": "1f88f319-a516-4ba4-b6c2-142d80d00007",
   "metadata": {},
   "source": [
    "IV.\tList Comprehension"
   ]
  },
  {
   "cell_type": "code",
   "execution_count": 16,
   "id": "107680ba-dde6-4b98-8ae7-90761292b820",
   "metadata": {},
   "outputs": [
    {
     "name": "stdout",
     "output_type": "stream",
     "text": [
      "Squares: [1500625, 24860196, 46090521, 62252100, 5499025, 46009089, 974169, 1522756, 76825225, 11943936]\n"
     ]
    }
   ],
   "source": [
    "squares = [lst**2 for lst in lists]\n",
    "print(\"Squares:\", squares)"
   ]
  },
  {
   "cell_type": "markdown",
   "id": "49d7c0e3-3136-462d-9c34-4eec90c3466f",
   "metadata": {},
   "source": [
    "V.\tEnumerate"
   ]
  },
  {
   "cell_type": "code",
   "execution_count": 19,
   "id": "6ded3cff-51b5-4631-a31f-d377b80a19a5",
   "metadata": {},
   "outputs": [
    {
     "name": "stdout",
     "output_type": "stream",
     "text": [
      "Index 0, Value 1225\n",
      "Index 1, Value 4986\n",
      "Index 2, Value 6789\n",
      "Index 3, Value 7890\n",
      "Index 4, Value 2345\n",
      "Index 5, Value 6783\n",
      "Index 6, Value 987\n",
      "Index 7, Value 1234\n",
      "Index 8, Value 8765\n",
      "Index 9, Value 3456\n"
     ]
    }
   ],
   "source": [
    "for index, lst in enumerate(lists):\n",
    "    print(f\"Index {index}, Value {lst}\")"
   ]
  },
  {
   "cell_type": "markdown",
   "id": "bb2ba127-31b8-416c-9427-cf4d64200527",
   "metadata": {},
   "source": [
    "VI.\tIter function and next function"
   ]
  },
  {
   "cell_type": "code",
   "execution_count": 42,
   "id": "1983802d-6c6a-4ce8-bee6-c745700a76d2",
   "metadata": {},
   "outputs": [
    {
     "name": "stdout",
     "output_type": "stream",
     "text": [
      "1225\n",
      "4986\n",
      "6789\n",
      "7890\n",
      "2345\n",
      "6783\n",
      "987\n",
      "1234\n",
      "8765\n",
      "3456\n"
     ]
    }
   ],
   "source": [
    "lst_iter = iter(lists)\n",
    "while True:\n",
    "    try:\n",
    "        print(next(lst_iter))\n",
    "    except StopIteration:\n",
    "        break"
   ]
  },
  {
   "cell_type": "markdown",
   "id": "abd6aaa0-98c7-4e72-804d-39ead28a2136",
   "metadata": {},
   "source": [
    "VII.\tMap function"
   ]
  },
  {
   "cell_type": "code",
   "execution_count": 7,
   "id": "edf38173-2b5b-43f1-8e4d-87a3424e5f7f",
   "metadata": {},
   "outputs": [
    {
     "name": "stdout",
     "output_type": "stream",
     "text": [
      "[1500625, 24860196, 46090521, 62252100, 5499025, 46009089, 974169, 1522756, 76825225, 11943936]\n"
     ]
    }
   ],
   "source": [
    "def square(lists):\n",
    "    return lists ** 2\n",
    "lists = [1225, 4986, 6789, 7890, 2345, 6783, 987, 1234, 8765, 3456]\n",
    "squared_numbers = list(map(square, lists))\n",
    "print(squared_numbers)"
   ]
  },
  {
   "cell_type": "markdown",
   "id": "73767094-b406-4bc5-b537-9f8899dfe796",
   "metadata": {},
   "source": [
    "VIII.\tUsing zip"
   ]
  },
  {
   "cell_type": "code",
   "execution_count": 11,
   "id": "d4b2a44f-c0fd-40b0-90f0-96e5f3fd91c9",
   "metadata": {},
   "outputs": [
    {
     "name": "stdout",
     "output_type": "stream",
     "text": [
      "[(1225, 6783), (4986, 987), (6789, 1234), (7890, 8765), (2345, 3456)]\n"
     ]
    }
   ],
   "source": [
    "list_1 = [1225, 4986, 6789, 7890, 2345]\n",
    "list_2 = [6783, 987, 1234, 8765, 3456]\n",
    "\n",
    "zipped = list(zip(list_1, list_2))\n",
    "print(zipped)"
   ]
  },
  {
   "cell_type": "markdown",
   "id": "0be643ab-d42c-4f85-aeb5-6571392470f3",
   "metadata": {},
   "source": [
    "IX.\tUsing NumPy Module"
   ]
  },
  {
   "cell_type": "code",
   "execution_count": 67,
   "id": "683189d9-076a-4fd0-9504-98af08f041a3",
   "metadata": {},
   "outputs": [
    {
     "name": "stdout",
     "output_type": "stream",
     "text": [
      "array: [1225 4986 6789 7890 2345 6783  987 1234 8765 3456]\n"
     ]
    }
   ],
   "source": [
    "import numpy as np\n",
    "\n",
    "np_lists = np.array(lists)\n",
    "print(\"array:\", np_lists)"
   ]
  },
  {
   "cell_type": "code",
   "execution_count": null,
   "id": "f397195b-418b-4010-87db-a130a39e38d5",
   "metadata": {},
   "outputs": [],
   "source": []
  }
 ],
 "metadata": {
  "kernelspec": {
   "display_name": "Python 3 (ipykernel)",
   "language": "python",
   "name": "python3"
  },
  "language_info": {
   "codemirror_mode": {
    "name": "ipython",
    "version": 3
   },
   "file_extension": ".py",
   "mimetype": "text/x-python",
   "name": "python",
   "nbconvert_exporter": "python",
   "pygments_lexer": "ipython3",
   "version": "3.12.4"
  }
 },
 "nbformat": 4,
 "nbformat_minor": 5
}

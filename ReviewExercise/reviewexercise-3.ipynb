{
 "cells": [
  {
   "cell_type": "markdown",
   "id": "8b13e595-0b6e-48cb-a842-aecf0b46f152",
   "metadata": {},
   "source": [
    "For a List A, B, C, D, E write a python program to compute all the combinations and permutations "
   ]
  },
  {
   "cell_type": "code",
   "execution_count": 2,
   "id": "1f365b52-068b-47d2-874a-fbd3285dab61",
   "metadata": {},
   "outputs": [
    {
     "name": "stdout",
     "output_type": "stream",
     "text": [
      "Permutations of A: [[1, 2, 3], [1, 3, 2], [2, 1, 3], [2, 3, 1], [3, 1, 2], [3, 2, 1]]\n",
      "Combinations of A of length 2: [[1, 2], [1, 3], [2, 3]]\n"
     ]
    }
   ],
   "source": [
    "def permutations(lst):\n",
    "    if len(lst) == 0:\n",
    "        return []\n",
    "    if len(lst) == 1:\n",
    "        return [lst]\n",
    "    perms = []\n",
    "    for i in range(len(lst)):\n",
    "        m = lst[i]\n",
    "        remaining = lst[:i] + lst[i+1:]\n",
    "        for p in permutations(remaining):\n",
    "            perms.append([m] + p)\n",
    "    return perms\n",
    "\n",
    "def combinations(lst, r):\n",
    "    if r == 0:\n",
    "        return [[]]\n",
    "    if len(lst) == 0:\n",
    "        return []\n",
    "    combs = []\n",
    "    for i in range(len(lst)):\n",
    "        m = lst[i]\n",
    "        remaining = lst[i+1:]\n",
    "        for c in combinations(remaining, r-1):\n",
    "            combs.append([m] + c)\n",
    "    return combs\n",
    "\n",
    "# Example lists\n",
    "A = [1, 2, 3]\n",
    "B = [4, 5]\n",
    "C = [6, 7]\n",
    "D = [8, 9]\n",
    "E = [0]\n",
    "\n",
    "print(\"Permutations of A:\", permutations(A))\n",
    "print(\"Combinations of A of length 2:\", combinations(A, 2))"
   ]
  },
  {
   "cell_type": "code",
   "execution_count": null,
   "id": "04d1759b-e3da-4d27-91d4-5edcdbfa4d63",
   "metadata": {},
   "outputs": [],
   "source": []
  }
 ],
 "metadata": {
  "kernelspec": {
   "display_name": "Python 3 (ipykernel)",
   "language": "python",
   "name": "python3"
  },
  "language_info": {
   "codemirror_mode": {
    "name": "ipython",
    "version": 3
   },
   "file_extension": ".py",
   "mimetype": "text/x-python",
   "name": "python",
   "nbconvert_exporter": "python",
   "pygments_lexer": "ipython3",
   "version": "3.12.4"
  }
 },
 "nbformat": 4,
 "nbformat_minor": 5
}

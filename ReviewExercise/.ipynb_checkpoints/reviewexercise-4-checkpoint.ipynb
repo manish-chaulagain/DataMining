{
 "cells": [
  {
   "cell_type": "markdown",
   "id": "81d7d7ff-7cc3-42ad-a82f-e57b1ec1e9c3",
   "metadata": {},
   "source": [
    "Using the same list use itertools compute permutations and combinations"
   ]
  },
  {
   "cell_type": "code",
   "execution_count": 2,
   "id": "b0e8d74c-dff6-4330-9787-4e452fccb993",
   "metadata": {},
   "outputs": [
    {
     "name": "stdout",
     "output_type": "stream",
     "text": [
      "Permutations using itertools: [('A', 'B', 'C', 'D', 'E'), ('A', 'B', 'C', 'E', 'D'), ('A', 'B', 'D', 'C', 'E'), ('A', 'B', 'D', 'E', 'C'), ('A', 'B', 'E', 'C', 'D'), ('A', 'B', 'E', 'D', 'C'), ('A', 'C', 'B', 'D', 'E'), ('A', 'C', 'B', 'E', 'D'), ('A', 'C', 'D', 'B', 'E'), ('A', 'C', 'D', 'E', 'B'), ('A', 'C', 'E', 'B', 'D'), ('A', 'C', 'E', 'D', 'B'), ('A', 'D', 'B', 'C', 'E'), ('A', 'D', 'B', 'E', 'C'), ('A', 'D', 'C', 'B', 'E'), ('A', 'D', 'C', 'E', 'B'), ('A', 'D', 'E', 'B', 'C'), ('A', 'D', 'E', 'C', 'B'), ('A', 'E', 'B', 'C', 'D'), ('A', 'E', 'B', 'D', 'C'), ('A', 'E', 'C', 'B', 'D'), ('A', 'E', 'C', 'D', 'B'), ('A', 'E', 'D', 'B', 'C'), ('A', 'E', 'D', 'C', 'B'), ('B', 'A', 'C', 'D', 'E'), ('B', 'A', 'C', 'E', 'D'), ('B', 'A', 'D', 'C', 'E'), ('B', 'A', 'D', 'E', 'C'), ('B', 'A', 'E', 'C', 'D'), ('B', 'A', 'E', 'D', 'C'), ('B', 'C', 'A', 'D', 'E'), ('B', 'C', 'A', 'E', 'D'), ('B', 'C', 'D', 'A', 'E'), ('B', 'C', 'D', 'E', 'A'), ('B', 'C', 'E', 'A', 'D'), ('B', 'C', 'E', 'D', 'A'), ('B', 'D', 'A', 'C', 'E'), ('B', 'D', 'A', 'E', 'C'), ('B', 'D', 'C', 'A', 'E'), ('B', 'D', 'C', 'E', 'A'), ('B', 'D', 'E', 'A', 'C'), ('B', 'D', 'E', 'C', 'A'), ('B', 'E', 'A', 'C', 'D'), ('B', 'E', 'A', 'D', 'C'), ('B', 'E', 'C', 'A', 'D'), ('B', 'E', 'C', 'D', 'A'), ('B', 'E', 'D', 'A', 'C'), ('B', 'E', 'D', 'C', 'A'), ('C', 'A', 'B', 'D', 'E'), ('C', 'A', 'B', 'E', 'D'), ('C', 'A', 'D', 'B', 'E'), ('C', 'A', 'D', 'E', 'B'), ('C', 'A', 'E', 'B', 'D'), ('C', 'A', 'E', 'D', 'B'), ('C', 'B', 'A', 'D', 'E'), ('C', 'B', 'A', 'E', 'D'), ('C', 'B', 'D', 'A', 'E'), ('C', 'B', 'D', 'E', 'A'), ('C', 'B', 'E', 'A', 'D'), ('C', 'B', 'E', 'D', 'A'), ('C', 'D', 'A', 'B', 'E'), ('C', 'D', 'A', 'E', 'B'), ('C', 'D', 'B', 'A', 'E'), ('C', 'D', 'B', 'E', 'A'), ('C', 'D', 'E', 'A', 'B'), ('C', 'D', 'E', 'B', 'A'), ('C', 'E', 'A', 'B', 'D'), ('C', 'E', 'A', 'D', 'B'), ('C', 'E', 'B', 'A', 'D'), ('C', 'E', 'B', 'D', 'A'), ('C', 'E', 'D', 'A', 'B'), ('C', 'E', 'D', 'B', 'A'), ('D', 'A', 'B', 'C', 'E'), ('D', 'A', 'B', 'E', 'C'), ('D', 'A', 'C', 'B', 'E'), ('D', 'A', 'C', 'E', 'B'), ('D', 'A', 'E', 'B', 'C'), ('D', 'A', 'E', 'C', 'B'), ('D', 'B', 'A', 'C', 'E'), ('D', 'B', 'A', 'E', 'C'), ('D', 'B', 'C', 'A', 'E'), ('D', 'B', 'C', 'E', 'A'), ('D', 'B', 'E', 'A', 'C'), ('D', 'B', 'E', 'C', 'A'), ('D', 'C', 'A', 'B', 'E'), ('D', 'C', 'A', 'E', 'B'), ('D', 'C', 'B', 'A', 'E'), ('D', 'C', 'B', 'E', 'A'), ('D', 'C', 'E', 'A', 'B'), ('D', 'C', 'E', 'B', 'A'), ('D', 'E', 'A', 'B', 'C'), ('D', 'E', 'A', 'C', 'B'), ('D', 'E', 'B', 'A', 'C'), ('D', 'E', 'B', 'C', 'A'), ('D', 'E', 'C', 'A', 'B'), ('D', 'E', 'C', 'B', 'A'), ('E', 'A', 'B', 'C', 'D'), ('E', 'A', 'B', 'D', 'C'), ('E', 'A', 'C', 'B', 'D'), ('E', 'A', 'C', 'D', 'B'), ('E', 'A', 'D', 'B', 'C'), ('E', 'A', 'D', 'C', 'B'), ('E', 'B', 'A', 'C', 'D'), ('E', 'B', 'A', 'D', 'C'), ('E', 'B', 'C', 'A', 'D'), ('E', 'B', 'C', 'D', 'A'), ('E', 'B', 'D', 'A', 'C'), ('E', 'B', 'D', 'C', 'A'), ('E', 'C', 'A', 'B', 'D'), ('E', 'C', 'A', 'D', 'B'), ('E', 'C', 'B', 'A', 'D'), ('E', 'C', 'B', 'D', 'A'), ('E', 'C', 'D', 'A', 'B'), ('E', 'C', 'D', 'B', 'A'), ('E', 'D', 'A', 'B', 'C'), ('E', 'D', 'A', 'C', 'B'), ('E', 'D', 'B', 'A', 'C'), ('E', 'D', 'B', 'C', 'A'), ('E', 'D', 'C', 'A', 'B'), ('E', 'D', 'C', 'B', 'A')]\n",
      "Combinations using itertools: [('A', 'B'), ('A', 'C'), ('A', 'D'), ('A', 'E'), ('B', 'C'), ('B', 'D'), ('B', 'E'), ('C', 'D'), ('C', 'E'), ('D', 'E')]\n"
     ]
    }
   ],
   "source": [
    "import itertools\n",
    "\n",
    "lst = ['A', 'B', 'C', 'D', 'E']\n",
    "\n",
    "perms = list(itertools.permutations(lst))\n",
    "combs = list(itertools.combinations(lst, 2))\n",
    "\n",
    "print(\"Permutations using itertools:\", perms)\n",
    "print(\"Combinations using itertools:\", combs)"
   ]
  },
  {
   "cell_type": "code",
   "execution_count": null,
   "id": "894cccd1-f71a-4098-aaa9-ad1cc688a269",
   "metadata": {},
   "outputs": [],
   "source": []
  }
 ],
 "metadata": {
  "kernelspec": {
   "display_name": "Python 3 (ipykernel)",
   "language": "python",
   "name": "python3"
  },
  "language_info": {
   "codemirror_mode": {
    "name": "ipython",
    "version": 3
   },
   "file_extension": ".py",
   "mimetype": "text/x-python",
   "name": "python",
   "nbconvert_exporter": "python",
   "pygments_lexer": "ipython3",
   "version": "3.12.4"
  }
 },
 "nbformat": 4,
 "nbformat_minor": 5
}
